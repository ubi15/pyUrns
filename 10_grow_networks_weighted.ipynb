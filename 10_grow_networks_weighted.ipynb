{
 "cells": [
  {
   "cell_type": "code",
   "execution_count": 1,
   "metadata": {},
   "outputs": [
    {
     "name": "stdout",
     "output_type": "stream",
     "text": [
      "Populating the interactive namespace from numpy and matplotlib\n"
     ]
    }
   ],
   "source": [
    "%pylab inline\n",
    "import gzip\n",
    "import pickle\n",
    "import glob\n",
    "import os\n",
    "import sys"
   ]
  },
  {
   "cell_type": "code",
   "execution_count": 2,
   "metadata": {},
   "outputs": [],
   "source": [
    "MyGraph = {}\n",
    "\n",
    "IDir = \"../../../strong_ties/data/twitter/twitter/data-01-09_company_like/\"\n",
    "outFile = \"TWT_NET.pkl\"\n",
    "\n",
    "zipped_f = False\n",
    "max_loaded_events=100000000\n",
    "\n",
    "caller_idx = 0\n",
    "called_idx = 1\n",
    "clr_company_idx = 2\n",
    "cld_company_idx = 3"
   ]
  },
  {
   "cell_type": "code",
   "execution_count": 3,
   "metadata": {},
   "outputs": [],
   "source": [
    "lineFetcher = lambda vs: (vs[caller_idx], vs[called_idx],\\\n",
    "                                True, True, -1)"
   ]
  },
  {
   "cell_type": "code",
   "execution_count": 4,
   "metadata": {},
   "outputs": [],
   "source": [
    "ApriFile = gzip.open if zipped_f else open # Gzipped input?"
   ]
  },
  {
   "cell_type": "code",
   "execution_count": 5,
   "metadata": {},
   "outputs": [],
   "source": [
    "fnames = sorted([f for f in sorted(os.listdir(IDir)) if f[0] != \".\"])"
   ]
  },
  {
   "cell_type": "code",
   "execution_count": 6,
   "metadata": {},
   "outputs": [
    {
     "name": "stdout",
     "output_type": "stream",
     "text": [
      "First round, file 273 of 273..."
     ]
    }
   ],
   "source": [
    "EV_TOT = 0\n",
    "for file_index, fn in enumerate(fnames):\n",
    "    sys.stdout.write(\"\\rFirst round, file %03d of %03d...\" % (file_index+1, len(fnames)) )\n",
    "    sys.stdout.flush()\n",
    "    sliceNum = 0\n",
    "    readDone = False\n",
    "    while not readDone:\n",
    "        Listone = []\n",
    "        with ApriFile(os.path.join(IDir, fn), 'rb') as of:\n",
    "            for _ in range(max_loaded_events*sliceNum): next(of)\n",
    "\n",
    "            for ln in of:\n",
    "                lineValues = ln.strip().split()\n",
    "                Listone.append(lineFetcher(lineValues))\n",
    "\n",
    "                if len(Listone) >= max_loaded_events:\n",
    "                    sliceNum += 1\n",
    "                    break\n",
    "            else:\n",
    "                readDone = True\n",
    "        for clr, cld, comp_clr, comp_cld, time in Listone:\n",
    "            if clr != cld:\n",
    "                EV_TOT += 1\n",
    "                #time_fin = time if time_scheme == \"given\" else EV_TOT\n",
    "                if clr not in MyGraph:\n",
    "                    MyGraph[clr] = {cld: 1}\n",
    "                else:\n",
    "                    try:\n",
    "                        MyGraph[clr][cld] += 1\n",
    "                    except KeyError:\n",
    "                        MyGraph[clr][cld] = 1\n",
    "\n",
    "                if cld not in MyGraph:\n",
    "                    MyGraph[cld] = {clr: 0}\n",
    "                else:\n",
    "                    if clr not in MyGraph[cld]:\n",
    "                        MyGraph[cld][clr] = 0\n",
    "        del Listone"
   ]
  },
  {
   "cell_type": "code",
   "execution_count": 7,
   "metadata": {},
   "outputs": [
    {
     "data": {
      "text/plain": [
       "{b'1': 75,\n",
       " b'1543': 20,\n",
       " b'8126': 12,\n",
       " b'257': 46,\n",
       " b'146': 43,\n",
       " b'1555': 1,\n",
       " b'21698': 8,\n",
       " b'4323': 19,\n",
       " b'58769': 45,\n",
       " b'43870': 5,\n",
       " b'274': 6,\n",
       " b'141475': 36,\n",
       " b'59849': 14,\n",
       " b'467307': 17,\n",
       " b'491335': 11,\n",
       " b'2064': 1}"
      ]
     },
     "execution_count": 7,
     "metadata": {},
     "output_type": "execute_result"
    }
   ],
   "source": [
    "MyGraph[list(MyGraph.keys())[0]]"
   ]
  },
  {
   "cell_type": "code",
   "execution_count": 8,
   "metadata": {},
   "outputs": [],
   "source": [
    "pickle.dump(MyGraph, gzip.open(outFile, \"wb\"))"
   ]
  },
  {
   "cell_type": "code",
   "execution_count": null,
   "metadata": {},
   "outputs": [],
   "source": []
  },
  {
   "cell_type": "code",
   "execution_count": null,
   "metadata": {},
   "outputs": [],
   "source": []
  },
  {
   "cell_type": "code",
   "execution_count": null,
   "metadata": {},
   "outputs": [],
   "source": []
  },
  {
   "cell_type": "code",
   "execution_count": null,
   "metadata": {},
   "outputs": [],
   "source": []
  },
  {
   "cell_type": "code",
   "execution_count": null,
   "metadata": {},
   "outputs": [],
   "source": []
  },
  {
   "cell_type": "code",
   "execution_count": null,
   "metadata": {},
   "outputs": [],
   "source": []
  }
 ],
 "metadata": {
  "kernelspec": {
   "display_name": "Python 3",
   "language": "python",
   "name": "python3"
  },
  "language_info": {
   "codemirror_mode": {
    "name": "ipython",
    "version": 3
   },
   "file_extension": ".py",
   "mimetype": "text/x-python",
   "name": "python",
   "nbconvert_exporter": "python",
   "pygments_lexer": "ipython3",
   "version": "3.7.3"
  }
 },
 "nbformat": 4,
 "nbformat_minor": 2
}
