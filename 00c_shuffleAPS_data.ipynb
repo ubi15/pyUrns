{
 "cells": [
  {
   "cell_type": "code",
   "execution_count": 1,
   "metadata": {},
   "outputs": [
    {
     "name": "stdout",
     "output_type": "stream",
     "text": [
      "Populating the interactive namespace from numpy and matplotlib\n"
     ]
    }
   ],
   "source": [
    "%pylab inline\n",
    "\n",
    "import numpy as np\n",
    "import matplotlib.pyplot as plt\n",
    "import pandas as pd\n",
    "\n",
    "from glob import glob"
   ]
  },
  {
   "cell_type": "code",
   "execution_count": 2,
   "metadata": {},
   "outputs": [],
   "source": [
    "import os\n",
    "import sys"
   ]
  },
  {
   "cell_type": "code",
   "execution_count": null,
   "metadata": {},
   "outputs": [],
   "source": []
  },
  {
   "cell_type": "markdown",
   "metadata": {},
   "source": [
    "## Notebook to create fake samples of APS data with only a limited number of links per event\n",
    "\n",
    "We create 10 realizations of the dataset for each number of links per event $l=[1,2,3,4,5]$."
   ]
  },
  {
   "cell_type": "code",
   "execution_count": 3,
   "metadata": {},
   "outputs": [],
   "source": [
    "files = sorted( glob(\"/home/ubi/urns_serie/APS/aff_data_ISI_original/*-*_deca*.dat\") )\n",
    "\n",
    "outFile = \"/home/ubi/urns_serie/APS/subsamples/n_links_{}/sample_{}/{}.dat\""
   ]
  },
  {
   "cell_type": "code",
   "execution_count": 4,
   "metadata": {},
   "outputs": [],
   "source": [
    "start_date = \"1970-01\"\n",
    "\n",
    "n_links = [10,]\n",
    "\n",
    "n_samples = 10"
   ]
  },
  {
   "cell_type": "code",
   "execution_count": 5,
   "metadata": {},
   "outputs": [
    {
     "name": "stdout",
     "output_type": "stream",
     "text": [
      "Skipping 1969-12_deca2.dat\n",
      "Starting at 1970-01_deca0.dat\n",
      "2008-01_deca0.dat"
     ]
    }
   ],
   "source": [
    "first = True\n",
    "events = []\n",
    "for fname in files:\n",
    "    if os.path.basename(fname)[:len(start_date)] < start_date:\n",
    "        sys.stdout.write(\"\\rSkipping %s\"% os.path.basename(fname) )\n",
    "        continue\n",
    "    if first:\n",
    "        print(\"\\nStarting at\", os.path.basename(fname))\n",
    "        first = False\n",
    "    with open(fname, \"r\") as f:\n",
    "        ls = f.readlines()\n",
    "    \n",
    "    events.append([[v for v in l.strip().split(\"\\t\")] for l in ls])\n",
    "    sys.stdout.write(\"\\r%s\"%os.path.basename(fname))\n",
    "    sys.stdout.flush()"
   ]
  },
  {
   "cell_type": "code",
   "execution_count": null,
   "metadata": {},
   "outputs": [],
   "source": []
  },
  {
   "cell_type": "code",
   "execution_count": 6,
   "metadata": {},
   "outputs": [],
   "source": [
    "from itertools import combinations, permutations"
   ]
  },
  {
   "cell_type": "code",
   "execution_count": 7,
   "metadata": {},
   "outputs": [
    {
     "name": "stdout",
     "output_type": "stream",
     "text": [
      "Done sample 0 of links 10\n",
      "Done sample 1 of links 10\n",
      "Done sample 2 of links 10\n",
      "Done sample 3 of links 10\n",
      "Done sample 4 of links 10\n",
      "Done sample 5 of links 10\n",
      "Done sample 6 of links 10\n",
      "Done sample 7 of links 10\n",
      "Done sample 8 of links 10\n",
      "Done sample 9 of links 10\n"
     ]
    }
   ],
   "source": [
    "for linkn in n_links:\n",
    "    for sample in range(n_samples):\n",
    "        for iii, file_eves in enumerate(events):\n",
    "            tmp_name = outFile.format(\"%02d\" % linkn, \"%02d\" % sample, \"%05d\" % iii)\n",
    "            \n",
    "            tmp_dir = os.path.dirname(tmp_name)\n",
    "            if not os.path.exists(tmp_dir):\n",
    "                os.makedirs(tmp_dir)\n",
    "                \n",
    "            \n",
    "            sampled = []\n",
    "            for paper in file_eves:\n",
    "                possible_links = np.array(list(permutations(paper, 2)))\n",
    "                \n",
    "                tmp_link_number = possible_links.shape[0]\n",
    "                if tmp_link_number > linkn:\n",
    "                    selected = np.random.choice(np.arange(tmp_link_number), linkn)\n",
    "                    possible_links = possible_links[selected]\n",
    "                \n",
    "                sampled.append([ [auth for auth in l] for l in possible_links])\n",
    "            \n",
    "            with open(tmp_name, \"wb\") as f:\n",
    "                for pap in sampled:\n",
    "                    for ev in pap:\n",
    "                        f.write(b\"\\t\".join([bytes(e.encode()) for e in ev] + [b\"1\",b\"1\"]) + b\"\\n\")\n",
    "        print(\"Done sample %d of links %d\" % (sample, linkn))"
   ]
  },
  {
   "cell_type": "code",
   "execution_count": null,
   "metadata": {},
   "outputs": [
    {
     "name": "stdout",
     "output_type": "stream",
     "text": [
      "153557  186589\n",
      "98298   46093\n",
      "\u001b[7m/home/ubi/urns_serie/APS/aff_data_ISI_original/1909-09_deca1.dat (END)\u001b[m\u001b[K"
     ]
    }
   ],
   "source": [
    "!less /home/ubi/urns_serie/APS/aff_data_ISI_original/1909-09_deca1.dat"
   ]
  },
  {
   "cell_type": "code",
   "execution_count": null,
   "metadata": {},
   "outputs": [],
   "source": [
    "ev, e"
   ]
  },
  {
   "cell_type": "code",
   "execution_count": null,
   "metadata": {},
   "outputs": [],
   "source": []
  },
  {
   "cell_type": "code",
   "execution_count": null,
   "metadata": {},
   "outputs": [],
   "source": [
    "for l in possible_links:\n",
    "    print(list(l))"
   ]
  },
  {
   "cell_type": "code",
   "execution_count": null,
   "metadata": {},
   "outputs": [],
   "source": [
    "[ [auth for auth in l] for l in possible_links]"
   ]
  },
  {
   "cell_type": "code",
   "execution_count": null,
   "metadata": {},
   "outputs": [],
   "source": [
    "tmp_name"
   ]
  },
  {
   "cell_type": "code",
   "execution_count": null,
   "metadata": {},
   "outputs": [],
   "source": [
    "os.path.dirname(tmp_name)"
   ]
  },
  {
   "cell_type": "code",
   "execution_count": null,
   "metadata": {},
   "outputs": [],
   "source": []
  },
  {
   "cell_type": "code",
   "execution_count": null,
   "metadata": {},
   "outputs": [],
   "source": []
  },
  {
   "cell_type": "code",
   "execution_count": null,
   "metadata": {},
   "outputs": [],
   "source": []
  },
  {
   "cell_type": "code",
   "execution_count": null,
   "metadata": {},
   "outputs": [],
   "source": []
  },
  {
   "cell_type": "code",
   "execution_count": null,
   "metadata": {},
   "outputs": [],
   "source": []
  }
 ],
 "metadata": {
  "kernelspec": {
   "display_name": "Python 3",
   "language": "python",
   "name": "python3"
  },
  "language_info": {
   "codemirror_mode": {
    "name": "ipython",
    "version": 3
   },
   "file_extension": ".py",
   "mimetype": "text/x-python",
   "name": "python",
   "nbconvert_exporter": "python",
   "pygments_lexer": "ipython3",
   "version": "3.7.4"
  }
 },
 "nbformat": 4,
 "nbformat_minor": 2
}
